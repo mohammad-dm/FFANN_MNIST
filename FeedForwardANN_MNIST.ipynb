{
 "cells": [
  {
   "cell_type": "code",
   "execution_count": 1,
   "metadata": {},
   "outputs": [],
   "source": [
    "from scipy.io import loadmat\n",
    "import scipy.optimize as optimize\n",
    "import matplotlib.pyplot as plt\n",
    "import numpy as np\n",
    "import math"
   ]
  },
  {
   "cell_type": "markdown",
   "metadata": {},
   "source": [
    "Reading the MNIST dataset and the weitghts\n",
    "The weights come from a given trained NN and is used for evaluation"
   ]
  },
  {
   "cell_type": "code",
   "execution_count": 2,
   "metadata": {},
   "outputs": [
    {
     "data": {
      "text/plain": [
       "((25, 401), (10, 26))"
      ]
     },
     "execution_count": 2,
     "metadata": {},
     "output_type": "execute_result"
    }
   ],
   "source": [
    "X = loadmat('ex4data1.mat')['X']\n",
    "Y = loadmat('ex4data1.mat')['y'].flatten()\n",
    "num_labels = 10\n",
    "weights = loadmat('ex4weights.mat')\n",
    "Theta1, Theta2 = weights['Theta1'], weights['Theta2']\n",
    "Theta1.shape, Theta2.shape"
   ]
  },
  {
   "cell_type": "markdown",
   "metadata": {},
   "source": [
    "Visualising the dataset"
   ]
  },
  {
   "cell_type": "code",
   "execution_count": 3,
   "metadata": {},
   "outputs": [],
   "source": [
    "def mnist_visualizer(x):\n",
    "    '''\n",
    "    imput is a (400,) array representing an mnist sample\n",
    "    Converts the sample to (20,20) data and plots the sample number\n",
    "    '''\n",
    "    y = np.empty(shape =(20,20))\n",
    "    for irow in range (20):\n",
    "        y[irow,:] = x[20*irow:20*(irow+1)]\n",
    "    w = 4\n",
    "    h = 3\n",
    "    d = 70\n",
    "    plt.figure(figsize=(w, h), dpi=d)\n",
    "    color_map = plt.imshow(np.transpose(y))\n",
    "    color_map.set_cmap(\"Blues_r\")\n",
    "    plt.colorbar()"
   ]
  },
  {
   "cell_type": "code",
   "execution_count": 4,
   "metadata": {},
   "outputs": [
    {
     "data": {
      "text/plain": [
       "(5000,)"
      ]
     },
     "execution_count": 4,
     "metadata": {},
     "output_type": "execute_result"
    },
    {
     "data": {
      "image/png": "[encoded data removed]",
      "text/plain": [
       "<Figure size 280x210 with 2 Axes>"
      ]
     },
     "metadata": {
      "needs_background": "light"
     },
     "output_type": "display_data"
    }
   ],
   "source": [
    "mnist_visualizer(X[1700])\n",
    "Y.shape"
   ]
  },
  {
   "cell_type": "code",
   "execution_count": 5,
   "metadata": {},
   "outputs": [],
   "source": [
    "def sigmoid (x):\n",
    "    if type (x) == np.ndarray:\n",
    "        return 1/(1 + np.exp(-x))\n",
    "    else:\n",
    "        return 1/(1+math.exp(-x))"
   ]
  },
  {
   "cell_type": "markdown",
   "metadata": {},
   "source": [
    "Setting up number of layers and neurons"
   ]
  },
  {
   "cell_type": "code",
   "execution_count": 6,
   "metadata": {},
   "outputs": [],
   "source": [
    "# Setup the parameters you will use for this exercise\n",
    "input_layer_size  = 400  \n",
    "hidden_layer_size = 25   \n",
    "num_labels = 10         \n",
    "lamda = 1\n",
    "nn_params = np.concatenate([Theta1.ravel(), Theta2.ravel()])"
   ]
  },
  {
   "cell_type": "markdown",
   "metadata": {},
   "source": [
    "Encoding y to to a 10*1 vector "
   ]
  },
  {
   "cell_type": "code",
   "execution_count": 7,
   "metadata": {},
   "outputs": [],
   "source": [
    "def encode_y (Y,num_labels):\n",
    "    encoded_y = np.zeros (shape= (Y.shape[0], num_labels))\n",
    "    for i,row in enumerate (encoded_y[:]):\n",
    "        row[Y[i]-1] = 1\n",
    "    return encoded_y"
   ]
  },
  {
   "cell_type": "code",
   "execution_count": 8,
   "metadata": {},
   "outputs": [],
   "source": [
    "y_encoded = encode_y (Y, num_labels)"
   ]
  },
  {
   "cell_type": "code",
   "execution_count": 9,
   "metadata": {},
   "outputs": [],
   "source": [
    "def sigmoidGradient (x):\n",
    "    if type (x) == np.ndarray:\n",
    "        sig_grad = sigmoid (x) * ( 1 - sigmoid(x) )\n",
    "        return sig_grad\n",
    "    else:\n",
    "        sig_grad = sigmoid (x) * ( 1 - sigmoid(x) )\n",
    "        return sig_grad"
   ]
  },
  {
   "cell_type": "markdown",
   "metadata": {},
   "source": [
    "#Random initialization"
   ]
  },
  {
   "cell_type": "code",
   "execution_count": 10,
   "metadata": {},
   "outputs": [],
   "source": [
    "def rand_initialize_weights (l_input, l_output, eps=0.12):\n",
    "    theta = np.random.rand(l_output, 1 + l_input) * 2 * eps - eps\n",
    "    return theta"
   ]
  },
  {
   "cell_type": "code",
   "execution_count": 11,
   "metadata": {},
   "outputs": [],
   "source": [
    "initial_Theta1 = rand_initialize_weights(input_layer_size, hidden_layer_size)\n",
    "initial_Theta2 = rand_initialize_weights(hidden_layer_size, num_labels)\n",
    "initial_nn_params = np.concatenate([initial_Theta1.ravel(), initial_Theta2.ravel()], axis=0)"
   ]
  },
  {
   "cell_type": "markdown",
   "metadata": {},
   "source": [
    "Computing the cost and the gradient for a given set of parameters \n",
    "(for 1 epoch)"
   ]
  },
  {
   "cell_type": "code",
   "execution_count": 14,
   "metadata": {},
   "outputs": [],
   "source": [
    "def nn_cost  (nn_params,\n",
    "              input_layer_size,\n",
    "              hidden_layer_size,\n",
    "              num_labels,\n",
    "              X, y, lamda=0\n",
    "             ):\n",
    "    m = X.shape[0]\n",
    "    #Reshaping Theta1  and Theta 2 to matrix form from nn_params\n",
    "    Theta1 = np.reshape( nn_params[:(input_layer_size + 1)*hidden_layer_size],\n",
    "                        (hidden_layer_size,input_layer_size+1) )\n",
    "    Theta2 = np.reshape( nn_params[(input_layer_size+1)*hidden_layer_size:],\n",
    "                        (num_labels,hidden_layer_size+1) )\n",
    "    #Forward propagation to get h_theta \n",
    "    X = np.concatenate([np.ones((m, 1)), X], axis=1)\n",
    "    a2 = sigmoid( X @  np.transpose(Theta1)  ) \n",
    "    a2 = np.concatenate([np.ones((a2.shape[0], 1)), a2], axis=1)\n",
    "    h_theta_i_k = sigmoid( a2 @   np.transpose(Theta2) )\n",
    "    #h_theta_i_k is the last layer\n",
    "    #calculate the cost of the network\n",
    "    one = np.ones (shape= h_theta_i_k.shape)\n",
    "    a = y * np.log (h_theta_i_k)\n",
    "    b = (one - y) * np.log (one - h_theta_i_k)\n",
    "    cost = 1/m * sum (sum (-a-b))\n",
    "    #Regularized cost\n",
    "    cost += ( sum (sum ( (Theta1*Theta1)[:,1:] ) ) + \n",
    "             sum (sum ( (Theta2*Theta2)[:,1:] ) ) ) * lamda / (2*m)\n",
    "    Delta_2, Delta_1 = 0,0\n",
    "    #Gard calculation \n",
    "    for t in range (m):\n",
    "        a1 = X[t,:] #401\n",
    "        a1 = np.reshape(a1,(a1.size,1))\n",
    "        #forward propagation\n",
    "        z2 = Theta1 @  a1\n",
    "        a2 = sigmoid (z2)\n",
    "        a2 = np.insert (a2,0,1,axis=0) #26\n",
    "        z3 = Theta2 @ a2\n",
    "        a3 = sigmoid (z3) #10\n",
    "        \n",
    "        delta_3 = a3 - y[t].reshape(y[t].size,1) #10\n",
    "        delta_2 = ( np.transpose(Theta2) @ delta_3 ) * sigmoidGradient(np.insert (z2,0,1,axis=0))\n",
    "        delta_2 = delta_2 [1:,:]\n",
    "\n",
    "        Delta_2 += delta_3 @ np.transpose(a2)\n",
    "        Delta_1 += delta_2 @ np.transpose(a1)\n",
    "\n",
    "    grad_1 = 1/m * Delta_1\n",
    "    grad_2 = 1/m * Delta_2\n",
    "\n",
    "    #Reugularized gradient\n",
    "    grad_1 += (lamda/m) * sum ( sum ( Theta1[:,1:] ) )\n",
    "    grad_2 += (lamda/m) * sum ( sum ( Theta2[:,1:] ) )\n",
    "    grad = np.concatenate([grad_1.ravel(), grad_2.ravel()])\n",
    "\n",
    "    return cost,grad"
   ]
  },
  {
   "cell_type": "markdown",
   "metadata": {},
   "source": [
    "Training the network for different lamdas to see which gives the lowest cost"
   ]
  },
  {
   "cell_type": "code",
   "execution_count": 22,
   "metadata": {},
   "outputs": [
    {
     "name": "stdout",
     "output_type": "stream",
     "text": [
      "lamda0.1\n"
     ]
    },
    {
     "name": "stderr",
     "output_type": "stream",
     "text": [
      "<ipython-input-14-ff19993c6620>:22: RuntimeWarning: divide by zero encountered in log\n",
      "  b = (one - y) * np.log (one - h_theta_i_k)\n",
      "<ipython-input-14-ff19993c6620>:22: RuntimeWarning: invalid value encountered in multiply\n",
      "  b = (one - y) * np.log (one - h_theta_i_k)\n"
     ]
    },
    {
     "name": "stdout",
     "output_type": "stream",
     "text": [
      "lamda0.3\n",
      "lamda0.5\n",
      "lamda0.7\n",
      "lamda0.9\n",
      "lamda1.1\n",
      "lamda1.3\n",
      "lamda1.5\n",
      "lamda1.7\n",
      "lamda1.9\n"
     ]
    }
   ],
   "source": [
    "global costs\n",
    "trial_lamdas = range(1,20,2)\n",
    "trial_lamdas = [item / 10 for item in trial_lamdas ]\n",
    "lamda_costs = []\n",
    "for i,lamda in enumerate (trial_lamdas):\n",
    "    \n",
    "    costs = []\n",
    "    options= {'maxiter': 200}\n",
    "    costFunction = lambda p: nn_cost(p, input_layer_size,\n",
    "                                            hidden_layer_size,\n",
    "                                            num_labels, X, y_encoded, lamda)\n",
    "    res = optimize.minimize(costFunction,\n",
    "                            initial_nn_params,\n",
    "                            jac=True,\n",
    "                            method='TNC',\n",
    "                            options=options)\n",
    "    print(f'lamda{lamda}')\n",
    "    lamda_costs.append([lamda,costs])"
   ]
  },
  {
   "cell_type": "code",
   "execution_count": 23,
   "metadata": {},
   "outputs": [
    {
     "data": {
      "image/png": "[encoded data removed]",
      "text/plain": [
       "<Figure size 432x288 with 1 Axes>"
      ]
     },
     "metadata": {
      "needs_background": "light"
     },
     "output_type": "display_data"
    }
   ],
   "source": [
    "for i,lamda in enumerate (trial_lamdas):\n",
    "    plt.plot ( range(len(lamda_costs[i][1]) ) ,lamda_costs[i][1],label='lamda='+str(lamda_costs[i][0]) ) \n",
    "    plt.xlabel ('epoch number')\n",
    "    plt.ylabel ('cost')\n",
    "    plt.legend()"
   ]
  },
  {
   "cell_type": "markdown",
   "metadata": {},
   "source": [
    "Lamda=1 is the best regularization parameter\n",
    "The network is trained using lamda=1"
   ]
  },
  {
   "cell_type": "code",
   "execution_count": 24,
   "metadata": {},
   "outputs": [],
   "source": [
    "lamda = 1\n",
    "options= {'maxiter': 200}\n",
    "costFunction = lambda p: nn_cost(p, input_layer_size,\n",
    "                                    hidden_layer_size,\n",
    "                                    num_labels, X, y_encoded, lamda)\n",
    "res = optimize.minimize(costFunction,\n",
    "                        initial_nn_params,\n",
    "                        jac=True,\n",
    "                        method='TNC',\n",
    "                        options=options)\n",
    "trained_params = res.x"
   ]
  },
  {
   "cell_type": "code",
   "execution_count": 25,
   "metadata": {},
   "outputs": [],
   "source": [
    "def predict(nn_paramss,input_layer_size, hidden_layer_size,num_labels , X):\n",
    "    #Reshaping Theta1  and Theta 2 to matrix form from nn_params\n",
    "    Theta1 = np.reshape( nn_paramss[:(input_layer_size + 1)*hidden_layer_size],\n",
    "                        (hidden_layer_size,input_layer_size+1) )\n",
    "    Theta2 = np.reshape( nn_paramss[(input_layer_size+1)*hidden_layer_size:],\n",
    "                        (num_labels,hidden_layer_size+1) )\n",
    "    m = X.shape[0]\n",
    "    num_labels = Theta2.shape[0]\n",
    "    p = np.zeros(X.shape[0])\n",
    "    X = np.concatenate([np.ones((m, 1)), X], axis=1)\n",
    "    a2 = sigmoid( X @  np.transpose(Theta1)  ) \n",
    "    a2 = np.concatenate([np.ones((a2.shape[0], 1)), a2], axis=1)\n",
    "    probs = sigmoid( a2 @   np.transpose(Theta2) )\n",
    "    p = np.argmax(probs, axis = 1)\n",
    "    return probs,p"
   ]
  },
  {
   "cell_type": "markdown",
   "metadata": {},
   "source": [
    "Checking the trainning set accuracy"
   ]
  },
  {
   "cell_type": "code",
   "execution_count": 26,
   "metadata": {},
   "outputs": [
    {
     "name": "stdout",
     "output_type": "stream",
     "text": [
      "Training Set Accuracy: 91.6%\n"
     ]
    }
   ],
   "source": [
    "probs,pred = predict(trained_params,input_layer_size, hidden_layer_size,num_labels , X)\n",
    "pred = pred + 1\n",
    "print('Training Set Accuracy: {:.1f}%'.format(np.mean(pred == Y) * 100))"
   ]
  },
  {
   "cell_type": "markdown",
   "metadata": {},
   "source": [
    "Visualizing a predicted value"
   ]
  },
  {
   "cell_type": "code",
   "execution_count": 27,
   "metadata": {},
   "outputs": [
    {
     "name": "stdout",
     "output_type": "stream",
     "text": [
      "pred[600] is 1\n"
     ]
    },
    {
     "data": {
      "image/png": "[encoded data removed]",
      "text/plain": [
       "<Figure size 280x210 with 2 Axes>"
      ]
     },
     "metadata": {
      "needs_background": "light"
     },
     "output_type": "display_data"
    }
   ],
   "source": [
    "print (f'pred[600] is {pred[600]}')\n",
    "mnist_visualizer (X[600])"
   ]
  },
  {
   "cell_type": "code",
   "execution_count": null,
   "metadata": {},
   "outputs": [],
   "source": []
  }
 ],
 "metadata": {
  "kernelspec": {
   "display_name": "Python 3",
   "language": "python",
   "name": "python3"
  },
  "language_info": {
   "codemirror_mode": {
    "name": "ipython",
    "version": 3
   },
   "file_extension": ".py",
   "mimetype": "text/x-python",
   "name": "python",
   "nbconvert_exporter": "python",
   "pygments_lexer": "ipython3",
   "version": "3.8.3"
  }
 },
 "nbformat": 4,
 "nbformat_minor": 4
}
