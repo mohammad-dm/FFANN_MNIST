{
 "cells": [
  {
   "cell_type": "code",
   "execution_count": 1,
   "metadata": {},
   "outputs": [],
   "source": [
    "from scipy.io import loadmat\n",
    "import scipy.optimize as optimizer\n",
    "import matplotlib.pyplot as plt\n",
    "import numpy as np\n",
    "import math"
   ]
  },
  {
   "cell_type": "code",
   "execution_count": 2,
   "metadata": {},
   "outputs": [],
   "source": [
    "X = loadmat('ex4data1.mat')['X']\n",
    "Y = loadmat('ex4data1.mat')['y'].flatten()\n",
    "num_labels = 10\n",
    "weights = loadmat('ex4weights.mat')\n",
    "Theta1, Theta2 = weights['Theta1'], weights['Theta2']"
   ]
  },
  {
   "cell_type": "code",
   "execution_count": 3,
   "metadata": {},
   "outputs": [],
   "source": [
    "def mnist_visualizer(x):\n",
    "    '''\n",
    "    imput is a (400,) array representing an mnist sample\n",
    "    Converts the sample to (20,20) data and plots the sample number\n",
    "    '''\n",
    "    y = np.empty(shape =(20,20))\n",
    "    for irow in range (20):\n",
    "        y[irow,:] = x[20*irow:20*(irow+1)]\n",
    "    w = 4\n",
    "    h = 3\n",
    "    d = 70\n",
    "    plt.figure(figsize=(w, h), dpi=d)\n",
    "    color_map = plt.imshow(np.transpose(y))\n",
    "    color_map.set_cmap(\"Blues_r\")\n",
    "    plt.colorbar()"
   ]
  },
  {
   "cell_type": "code",
   "execution_count": 4,
   "metadata": {},
   "outputs": [
    {
     "data": {
      "text/plain": [
       "(5000,)"
      ]
     },
     "execution_count": 4,
     "metadata": {},
     "output_type": "execute_result"
    },
    {
     "data": {
      "image/png": "[encoded data removed]",
      "text/plain": [
       "<Figure size 280x210 with 2 Axes>"
      ]
     },
     "metadata": {
      "needs_background": "light"
     },
     "output_type": "display_data"
    }
   ],
   "source": [
    "mnist_visualizer(X[1700])\n",
    "Y.shape"
   ]
  },
  {
   "cell_type": "code",
   "execution_count": 5,
   "metadata": {},
   "outputs": [],
   "source": [
    "def sigmoid (x):\n",
    "    if type (x) == np.ndarray:\n",
    "        return 1/(1 + np.exp(-x))\n",
    "    else:\n",
    "        return 1/(1+math.exp(-x))"
   ]
  },
  {
   "cell_type": "code",
   "execution_count": 6,
   "metadata": {},
   "outputs": [],
   "source": [
    "# Setup the parameters you will use for this exercise\n",
    "input_layer_size  = 400  \n",
    "hidden_layer_size = 25   \n",
    "num_labels = 10         \n",
    "lamda = 1\n",
    "nn_params = np.concatenate([Theta1.ravel(), Theta2.ravel()])"
   ]
  },
  {
   "cell_type": "code",
   "execution_count": 7,
   "metadata": {},
   "outputs": [],
   "source": [
    "def encode_y (Y,num_labels):\n",
    "    encoded_y = np.zeros (shape= (Y.shape[0], num_labels))\n",
    "    for i,row in enumerate (encoded_y[:]):\n",
    "        row[Y[i]-1] = 1\n",
    "    return encoded_y"
   ]
  },
  {
   "cell_type": "code",
   "execution_count": 8,
   "metadata": {},
   "outputs": [],
   "source": [
    "y_encoded = encode_y (Y, num_labels)"
   ]
  },
  {
   "cell_type": "code",
   "execution_count": 9,
   "metadata": {},
   "outputs": [],
   "source": [
    "def sigmoidGradient (x):\n",
    "    if type (x) == np.ndarray:\n",
    "        sig_grad = sigmoid (x) * ( 1 - sigmoid(x) )\n",
    "        return sig_grad\n",
    "    else:\n",
    "        sig_grad = sigmoid (x) * ( 1 - sigmoid(x) )\n",
    "        return sig_grad"
   ]
  },
  {
   "cell_type": "markdown",
   "metadata": {},
   "source": [
    "#Random initialization"
   ]
  },
  {
   "cell_type": "code",
   "execution_count": 10,
   "metadata": {},
   "outputs": [],
   "source": [
    "def rand_initialize_weights (l_input, l_output, eps=0.12):\n",
    "    theta = np.random.rand(l_output, 1 + l_input) * 2 * eps - eps\n",
    "    return theta"
   ]
  },
  {
   "cell_type": "code",
   "execution_count": 11,
   "metadata": {},
   "outputs": [],
   "source": [
    "initial_Theta1 = rand_initialize_weights(input_layer_size, hidden_layer_size)\n",
    "initial_Theta2 = rand_initialize_weights(hidden_layer_size, num_labels)\n",
    "initial_nn_params = np.concatenate([initial_Theta1.ravel(), initial_Theta2.ravel()], axis=0)"
   ]
  },
  {
   "cell_type": "code",
   "execution_count": 57,
   "metadata": {},
   "outputs": [],
   "source": [
    "def nn_cost  (nn_params,\n",
    "              input_layer_size,\n",
    "              hidden_layer_size,\n",
    "              num_labels,\n",
    "              X, y, lamda=0\n",
    "             ):\n",
    "    m = X.shape[0]\n",
    "    #Reshaping Theta1  and Theta 2 to matrix form from nn_params\n",
    "    Theta1 = np.reshape( nn_params[:(input_layer_size + 1)*hidden_layer_size],\n",
    "                        (hidden_layer_size,input_layer_size+1) )\n",
    "    Theta2 = np.reshape( nn_params[(input_layer_size+1)*hidden_layer_size:],\n",
    "                        (num_labels,hidden_layer_size+1) )\n",
    "    #Forward propagation to get h_theta \n",
    "    X = np.concatenate([np.ones((m, 1)), X], axis=1)\n",
    "    a2 = sigmoid( X @  np.transpose(Theta1)  ) \n",
    "    a2 = np.concatenate([np.ones((a2.shape[0], 1)), a2], axis=1)\n",
    "    h_theta_i_k = sigmoid( a2 @   np.transpose(Theta2) )\n",
    "    #h_theta_i_k is the last layer\n",
    "    #calculate the cost of the network\n",
    "    one = np.ones (shape= h_theta_i_k.shape)\n",
    "    a = y * np.log (h_theta_i_k)\n",
    "    b = (one - y) * np.log (one - h_theta_i_k)\n",
    "    cost = 1/m * sum (sum (-a-b))\n",
    "    #Regularized cost\n",
    "    cost += ( sum (sum ( (Theta1*Theta1)[:,1:] ) ) + \n",
    "             sum (sum ( (Theta2*Theta2)[:,1:] ) ) ) * lamda / (2*m)\n",
    "    Delta_2, Delta_1 = 0,0\n",
    "    #Gard calculation \n",
    "    for t in range (m):\n",
    "#         xi= X[i,:] # 1 X 401\n",
    "#         a1i = a1[i,:] # 1 X 26\n",
    "#         a2i =a2[i,:] # 1 X 10\n",
    "#         d2 = a2i - y10[i,:]\n",
    "#         d1 = Theta2.T @ d2.T * sigmoidGradient(np.hstack((1,xi @ Theta1.T)))\n",
    "#         grad1= grad1 + d1[1:][:,np.newaxis] @ xi[:,np.newaxis].T\n",
    "#         grad2 = grad2 + d2.T[:,np.newaxis] @ a1i[:,np.newaxis].T\n",
    "        \n",
    "        a1 = X[t,:] #401\n",
    "        #forward propagation\n",
    "        z2 = a1 @  np.transpose(Theta1)\n",
    "        a2 = sigmoid (z2)\n",
    "        a2 = np.insert (a2,0,1) #26\n",
    "        z3 = a2 @  np.transpose(Theta2)\n",
    "        a3 = sigmoid (z3) #10\n",
    "\n",
    "        delta_2 = a3 - y[t] #10\n",
    "        #Theta2 10X26\n",
    "        delta_1 = ( np.transpose(Theta2) @ delta_2 ) * sigmoidGradient(np.insert (z2,0,1))\n",
    "        Delta_2 += delta_2 @ np.transpose(a3)\n",
    "        Delta_1 += delta_1 @ np.transpose(a2)\n",
    "    grad_1 = 1/m * Delta_1\n",
    "    grad_2 = 1/m * Delta_2\n",
    "    return cost,grad_1,grad_2"
   ]
  },
  {
   "cell_type": "code",
   "execution_count": 58,
   "metadata": {},
   "outputs": [
    {
     "data": {
      "text/plain": [
       "0.3837698590909235"
      ]
     },
     "execution_count": 58,
     "metadata": {},
     "output_type": "execute_result"
    }
   ],
   "source": [
    "cost = nn_cost  (nn_params,input_layer_size,hidden_layer_size,num_labels,X, y_encoded, lamda)\n",
    "cost"
   ]
  },
  {
   "cell_type": "code",
   "execution_count": null,
   "metadata": {},
   "outputs": [],
   "source": []
  },
  {
   "cell_type": "code",
   "execution_count": null,
   "metadata": {},
   "outputs": [],
   "source": []
  }
 ],
 "metadata": {
  "kernelspec": {
   "display_name": "Python 3",
   "language": "python",
   "name": "python3"
  },
  "language_info": {
   "codemirror_mode": {
    "name": "ipython",
    "version": 3
   },
   "file_extension": ".py",
   "mimetype": "text/x-python",
   "name": "python",
   "nbconvert_exporter": "python",
   "pygments_lexer": "ipython3",
   "version": "3.8.3"
  }
 },
 "nbformat": 4,
 "nbformat_minor": 4
}
